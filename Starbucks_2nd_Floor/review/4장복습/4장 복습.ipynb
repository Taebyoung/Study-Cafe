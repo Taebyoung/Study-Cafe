{
 "cells": [
  {
   "cell_type": "markdown",
   "metadata": {},
   "source": [
    "# 정의\n",
    "    - 영어 정의를 해석하고 맞는 내용을 찾으시오"
   ]
  },
  {
   "cell_type": "markdown",
   "metadata": {},
   "source": [
    "1. sensitivity : \n",
    "2. differentiation : \n",
    "3. derivative : \n",
    "4. second derivative : \n",
    "5. convex : \n",
    "6. concave : \n",
    "7. partial differentiation : \n",
    "8. integral : \n",
    "9. gradient vector : \n",
    "10. quiver plot : "
   ]
  },
  {
   "cell_type": "markdown",
   "metadata": {},
   "source": [
    "- 내용 \n",
    "    1. 다변수 함수를 하나의 변수로 미분. 마크다운문법 `\\partial` = $\\partial$ (round)\n",
    "    2. 스칼라를 벡터로 미분하여 나온 값, 이 방향은 단위 길이당 함수값이 가장 크게 증가하는 방향이다.\n",
    "    3. 도함수를 한번더 만들어진 도함수\n",
    "    4. 컨투어 플롯 위에 그레디언트 벡터를 화살표로 나타낸 플롯\n",
    "    5. 2차 도함수 값이 양수인 경우, 볼록하다\n",
    "    6. 기울기(slope)라고 하며, 함수에서 변화률을 의미한다 이는 $ \\lim_{\\Delta x \\to 0}\\frac{f(x + \\Delta x) - f(x)}{\\Delta x} $\n",
    "    7. 2차 도함수 값이 음수인 경우, 오목하다\n",
    "    8. 원래 함수에서 미분으로 만들어진 함수\n",
    "    9. 미분과 반대되는 개념 $\\int$기호를 사용한다\n",
    "    10. 어떤 함수로부터 그 함수 기울기를 출력하는 새로운 함수를 만들어 내는 작업"
   ]
  },
  {
   "cell_type": "markdown",
   "metadata": {},
   "source": [
    "***\n",
    "# 법칙"
   ]
  },
  {
   "cell_type": "markdown",
   "metadata": {},
   "source": [
    "\n",
    "- 행렬 미분 법칙\n",
    "    1. 선형모형\n",
    "        - $ f(x) = w^Tx $\n",
    "        - $ \\nabla f = $\n",
    "    2. 이차형식\n",
    "        - $ f(x) = x^TAx$\n",
    "        - $ \\nabla f = $\n",
    "    3. 행렬과 벡터의 곱의 미분\n",
    "        - $ f(x) = Ax$\n",
    "        - $ \\nabla f = $\n",
    "    4. 행렬곱의 대각성분\n",
    "        - $ f(X) = tr(WX)$\n",
    "        - $ \\frac{\\partial}{\\partial X}f = $\n",
    "    5. 행렬식의 로그\n",
    "        - $ f(X) = \\log|X|$\n",
    "        - $ \\frac{\\partial}{\\partial X}f = $"
   ]
  },
  {
   "cell_type": "markdown",
   "metadata": {},
   "source": [
    "***\n",
    "# 문제"
   ]
  },
  {
   "cell_type": "markdown",
   "metadata": {},
   "source": [
    "**문제**\n",
    "- 연쇄법칙\n",
    "    - $f(x) = e^{g(x)}$, $\\; g(x) = x^2 + 2x + 1 $\n",
    "    - $\\frac{d}{dx}f(x) = $\n",
    "    - $h(x) = \\log k(x)\\;,\\;\\; k(x) = x^2 + 2x + 1$\n",
    "    - $\\frac{d}{dx}h(x) = $\n",
    "    - $t(x) = 2x^{-1}r(x)\\;,\\;\\; r(x) = x^2 +2x + 1$\n",
    "    - $\\frac{d}{dx}t(x) =$"
   ]
  },
  {
   "cell_type": "markdown",
   "metadata": {},
   "source": [
    "- 편미분\n",
    "    - $f(x, y) = x^3 + 4xy + y^3$\n",
    "    - $\\frac{d}{dx}f(x, y) = $\n",
    "    - $\\frac{d}{dy}f(x, y) = $"
   ]
  },
  {
   "cell_type": "markdown",
   "metadata": {},
   "source": [
    "- 2차 편미분\n",
    "    - 위 결과인 $f_x(x,y), f_y(x,y)$를 미분하여라\n",
    "    - $\\frac{d}{dx}f_x(x, y) = $\n",
    "    - $\\frac{d}{dy}f_x(x, y) = $\n",
    "    - $\\frac{d}{dx}f_y(x, y) = $\n",
    "    - $\\frac{d}{dy}f_y(x, y) = $"
   ]
  },
  {
   "cell_type": "markdown",
   "metadata": {},
   "source": [
    "***\n",
    "# 코드"
   ]
  },
  {
   "cell_type": "markdown",
   "metadata": {},
   "source": [
    "##### 연쇄법칙문제를 코드로 작성 하고 x에 대하여 미문하시오"
   ]
  },
  {
   "cell_type": "code",
   "execution_count": 3,
   "metadata": {},
   "outputs": [],
   "source": [
    "import sympy\n",
    "# Juypter 노트북에서 수학식 LaTeX표현을 위해 필요함\n",
    "sympy.init_printing(use_latex = 'mathjax')"
   ]
  },
  {
   "cell_type": "code",
   "execution_count": 32,
   "metadata": {},
   "outputs": [],
   "source": [
    "x, y = sympy.symbols('x y')\n",
    "## sympy.exp(g) 심파이 exp, log 함수 \n",
    "f =\n",
    "## sympy.log(k)\n",
    "h =\n",
    "## 분모는 2x ** -1\n",
    "t = "
   ]
  },
  {
   "cell_type": "code",
   "execution_count": 28,
   "metadata": {},
   "outputs": [
    {
     "data": {
      "text/latex": [
       "$\\displaystyle e^{x^{2} + 2 x + 1}$"
      ],
      "text/plain": [
       "  2          \n",
       " x  + 2⋅x + 1\n",
       "ℯ            "
      ]
     },
     "execution_count": 28,
     "metadata": {},
     "output_type": "execute_result"
    }
   ],
   "source": [
    "f"
   ]
  },
  {
   "cell_type": "code",
   "execution_count": 30,
   "metadata": {},
   "outputs": [
    {
     "data": {
      "text/latex": [
       "$\\displaystyle \\log{\\left(x^{2} + 2 x + 1 \\right)}$"
      ],
      "text/plain": [
       "   ⎛ 2          ⎞\n",
       "log⎝x  + 2⋅x + 1⎠"
      ]
     },
     "execution_count": 30,
     "metadata": {},
     "output_type": "execute_result"
    }
   ],
   "source": [
    "h"
   ]
  },
  {
   "cell_type": "code",
   "execution_count": 34,
   "metadata": {},
   "outputs": [
    {
     "data": {
      "text/latex": [
       "$\\displaystyle \\frac{x^{2} + 2 x + 1}{2 x}$"
      ],
      "text/plain": [
       " 2          \n",
       "x  + 2⋅x + 1\n",
       "────────────\n",
       "    2⋅x     "
      ]
     },
     "execution_count": 34,
     "metadata": {},
     "output_type": "execute_result"
    }
   ],
   "source": [
    "t"
   ]
  },
  {
   "cell_type": "code",
   "execution_count": null,
   "metadata": {},
   "outputs": [],
   "source": [
    "## 미분 sympy.diff()\n"
   ]
  },
  {
   "cell_type": "markdown",
   "metadata": {},
   "source": [
    "#### 부정적분"
   ]
  },
  {
   "cell_type": "markdown",
   "metadata": {},
   "source": [
    "- 이를 심파이를 이용하여 푸시오\n",
    "$$ \\iint xy\\exp(x^2 + y^2)dxdy$$"
   ]
  },
  {
   "cell_type": "code",
   "execution_count": 57,
   "metadata": {},
   "outputs": [
    {
     "data": {
      "text/latex": [
       "$\\displaystyle x y e^{x^{2} + y^{2}}$"
      ],
      "text/plain": [
       "      2    2\n",
       "     x  + y \n",
       "x⋅y⋅ℯ       "
      ]
     },
     "execution_count": 57,
     "metadata": {},
     "output_type": "execute_result"
    }
   ],
   "source": [
    "f = "
   ]
  },
  {
   "cell_type": "code",
   "execution_count": 65,
   "metadata": {},
   "outputs": [
    {
     "data": {
      "text/latex": [
       "$\\displaystyle \\frac{e^{x^{2} + y^{2}}}{4}$"
      ],
      "text/plain": [
       "  2    2\n",
       " x  + y \n",
       "ℯ       \n",
       "────────\n",
       "   4    "
      ]
     },
     "execution_count": 65,
     "metadata": {},
     "output_type": "execute_result"
    }
   ],
   "source": [
    "## sympy.integrate()"
   ]
  },
  {
   "cell_type": "markdown",
   "metadata": {},
   "source": [
    "#### 수치 이중적분"
   ]
  },
  {
   "cell_type": "markdown",
   "metadata": {},
   "source": [
    "- 다음 정적분의 값을 수치적분으로 구하라\n",
    "$$ \\int_{-1}^{1}\\int_{-1}^{1}(1 + xy)dxdy $$"
   ]
  },
  {
   "cell_type": "code",
   "execution_count": 1,
   "metadata": {},
   "outputs": [],
   "source": [
    "import sympy"
   ]
  },
  {
   "cell_type": "code",
   "execution_count": 2,
   "metadata": {},
   "outputs": [
    {
     "data": {
      "text/plain": [
       "(4.0, 4.440892098500626e-14)"
      ]
     },
     "execution_count": 2,
     "metadata": {},
     "output_type": "execute_result"
    }
   ],
   "source": [
    "def f(x, y): ## 함수\n",
    "    \n",
    "def gfun(x): ## y 의 a 값\n",
    "    \n",
    "def hfun(x): ## y 의 b 값\n",
    "    \n",
    "## sp.integrate.dblquad(f, a, b, gfun, hfun)\n",
    "sp.integrate.dblquad()"
   ]
  },
  {
   "cell_type": "code",
   "execution_count": null,
   "metadata": {},
   "outputs": [],
   "source": []
  }
 ],
 "metadata": {
  "kernelspec": {
   "display_name": "Python 3",
   "language": "python",
   "name": "python3"
  },
  "language_info": {
   "codemirror_mode": {
    "name": "ipython",
    "version": 3
   },
   "file_extension": ".py",
   "mimetype": "text/x-python",
   "name": "python",
   "nbconvert_exporter": "python",
   "pygments_lexer": "ipython3",
   "version": "3.7.3"
  }
 },
 "nbformat": 4,
 "nbformat_minor": 2
}
