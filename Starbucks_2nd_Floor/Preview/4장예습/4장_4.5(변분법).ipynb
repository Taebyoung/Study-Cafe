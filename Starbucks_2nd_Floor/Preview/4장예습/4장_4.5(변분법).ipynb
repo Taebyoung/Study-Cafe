{
 "cells": [
  {
   "cell_type": "markdown",
   "metadata": {},
   "source": [
    "# 변분법"
   ]
  },
  {
   "cell_type": "markdown",
   "metadata": {},
   "source": [
    "- **범함수**\n",
    "    - 함수를 입력받아 실수를 출력하는 함수\n",
    "    $$ F[y(x)] $$\n",
    "    - 범함수는 알파벳 대문자로 표기, 입력변수를 대괄호로 감싼다"
   ]
  },
  {
   "cell_type": "markdown",
   "metadata": {},
   "source": [
    "- **변분법** \n",
    "    - 입력인 함수가 변할 때 범함수의 출력이 어떻게 달라지는지를 계산하는 학문"
   ]
  },
  {
   "cell_type": "markdown",
   "metadata": {},
   "source": [
    "- **범함수의 테일러 전개**\n",
    "    - 함수의 테일러 전개\n",
    "    - f(x)의 도함수를 알때 다음처럼 함수의 근사값을 구할 수 있다. ($\\epsilon$은 아주 작은 실수)\n",
    "    $$ f(x + \\epsilon) \\approx f(x) + \\frac{df}{dx}\\epsilon$$\n",
    "    - 단변수 함수의 테일러 전개 (f 를 F로 표시)\n",
    "    $$ F(y + \\epsilon) \\approx F(y) + \\frac{dF}{dy}\\epsilon $$\n",
    "    - 다변수 함수의 테일러 전개\n",
    "    $$ F(y_1 + \\epsilon_1, \\cdots, y_N + \\epsilon_N) \\approx F(y_1, \\cdots,y_N) + \\sum_{i=1}^N\\frac{\\partial F}{\\partial y_i}\\epsilon_i $$\n",
    "    - 이때 $ y_i = y(x_i)$, $ \\epsilon_i = \\epsilon\\eta(x_i)$ 이다\n",
    "    $$ F \\big( y(x_1) + \\epsilon\\eta(x_1), y(x_2) + \\epsilon\\eta(x_2), \\ldots, y(x_N) + \\epsilon\\eta(x_N) \\big) \\approx F \\big( y(x_1), y(x_2), \\ldots, y(x_N) \\big) + \\epsilon \\sum_{i=1}^{N} \\dfrac{\\partial F}{\\partial y_i} \\eta(x_i)\n",
    "$$\n",
    "    - 위 식에서 수열{$y(x_1), \\cdots,y(x_N)$}를 함수 y로 바꾸면\n",
    "    $$ F[u(x) + \\epsilon\\eta(x)] \\approx F[y(x)] + \\epsilon\\int\\frac{\\delta F}{\\delta y(x)}\\eta(x)dx $$\n",
    "    이고 이 식이 바로 **범함수의 테일러 전개**이다"
   ]
  },
  {
   "cell_type": "markdown",
   "metadata": {},
   "source": [
    "- **범함수의 도함수**\n",
    "    - 위 식에서 $\\epsilon$의 변화에 의한 범함수 값의 변화는\n",
    "    $$ \\frac{F[y(x) + \\epsilon\\eta(x)] - F[y(x)]}{\\epsilon} = \\int\\frac{\\delta F}{\\delta y(x)}\\eta(x)dx $$\n",
    "    - 어떤 $\\eta(x)$함수에 대해서도 이 값이 0이 되려면\n",
    "    $$ \\frac{\\delta F}{\\delta y(x)} = 0 $$\n",
    "    - 이여야 되므로\n",
    "    $$ \\frac{\\delta}{\\delta y(x)}F $$\n",
    "    가 **범함수의 도함수** 이다"
   ]
  },
  {
   "cell_type": "markdown",
   "metadata": {},
   "source": [
    "- **적분형 범함수의 도함수**\n",
    "    - 대부분 범함수는 x에 대한 적분으로 정의되며 적분 기호안의 연산은 y(x)와 x를 입력 변수로 받는 함수G(y,x)라고 할 수 있다\n",
    "    $$ F[y(x)) = \\int G(y, x)dx $$\n",
    "    - 이러한 범함수F의 도함수는 다음처럼 계산한다\n",
    "    $$ \\frac{\\delta}{\\delta y}F = \\frac{\\partial}{\\partial |y}G $$"
   ]
  },
  {
   "cell_type": "markdown",
   "metadata": {},
   "source": [
    "***\n",
    "- 오일러 라그랑주 공식\n",
    "    - x, y(x) 이외의 $y'(x) = \\frac{d}{dx}y$도 입력변수로 받는 G(y(x),$y'(x)$,x)로 정의된 도함수도 있다\n",
    "    $$ F[y(x)] = \\int G(y, y', x)dx $$\n",
    "    - 이 때는 범함수F의 함수 y에 대한 도함수를 다음처럼 구한다\n",
    "    $$ \\frac{\\partial}{\\partial y}G - \\frac{d}{dc}\\left(\\frac{\\partial}{\\partial y'}G\\right) $$"
   ]
  },
  {
   "cell_type": "markdown",
   "metadata": {},
   "source": [
    "***\n",
    "- **최적 제어**\n",
    "    - 함수값이 가장 커지도록 혹은 가장 작아지도록 하는 독립변수 x의 값을 찾아내는것을 **최적화** 라고 한다\n",
    "    - 최적화를 위한 필요조건은 최적의 독립변수 $x^*$을 입력하면 값이 0 이되어야 한다는 것이다\n",
    "    $$ \\frac{d}{dx}f(x^*) = 0 $$\n",
    "    - 최적제어에서도 최적의 함수 $y^*$를 입력하면 범함수의 도함수의 값이 0이 되어야 한다는 것이 최적 조건이다\n",
    "    $$ \\frac{\\delta}{\\delta y}f[y^*(x)] = 0 $$"
   ]
  },
  {
   "cell_type": "code",
   "execution_count": null,
   "metadata": {},
   "outputs": [],
   "source": []
  }
 ],
 "metadata": {
  "kernelspec": {
   "display_name": "Python 3",
   "language": "python",
   "name": "python3"
  },
  "language_info": {
   "codemirror_mode": {
    "name": "ipython",
    "version": 3
   },
   "file_extension": ".py",
   "mimetype": "text/x-python",
   "name": "python",
   "nbconvert_exporter": "python",
   "pygments_lexer": "ipython3",
   "version": "3.7.3"
  }
 },
 "nbformat": 4,
 "nbformat_minor": 2
}
