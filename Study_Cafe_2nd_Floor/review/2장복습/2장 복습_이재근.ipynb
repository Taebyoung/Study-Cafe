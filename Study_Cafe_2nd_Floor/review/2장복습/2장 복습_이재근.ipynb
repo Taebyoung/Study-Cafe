{
 "cells": [
  {
   "cell_type": "markdown",
   "metadata": {},
   "source": [
    "# 2장 넘파이(NumPy)로 공부하는 선형대수\n",
    "- 2.1 데이터와 행렬\n",
    "- 2.2 벡터와 행렬의 연산\n",
    "- 2.3 행렬의 성질\n",
    "- 2.4 선형 연립방정식과 역행렬"
   ]
  },
  {
   "cell_type": "markdown",
   "metadata": {},
   "source": [
    "***\n",
    "# 정의"
   ]
  },
  {
   "cell_type": "markdown",
   "metadata": {},
   "source": [
    "    - 영어로된 내용의 정의와 맞는 정의의 내용을 찾으시오\n",
    "##### 정의\n",
    "1. transpose operation : \n",
    "2. diagonal matrix : \n",
    "3. identity matrix : \n",
    "4. symmetric matrix : \n",
    "5. linear combination : \n",
    "6. inner product : \n",
    "7. weighted sum : \n",
    "8. cosine similarity : \n",
    "10. trace : \n",
    "11. determinant : \n",
    "12. inverse matrix : "
   ]
  },
  {
   "cell_type": "markdown",
   "metadata": {},
   "source": [
    "##### 내용\n",
    "1. 역함수를 구할때 이용되며 $det(A) = \\sum_{i=1}^N\\{(-1)^{i+j_0}M_{i,j_0}a_{i,j_0}$으로 정의된다\n",
    "2. 복수의 데이터를 단순히 합하는 것이 아니라 각각의 수에 어떤 가중치 값을 곱한 후 이 곱셈 결과들을 다시 합한 것을 말한다.\n",
    "3. 행렬의 행과 열을 바꾸는 연산 \n",
    "4. 벡터/행렬에 스칼라값을 곱한 후 더하거나 뺀 것\n",
    "5. 벡터의 내적을 이용하여 두 벡터가 닮은 정도를 정량적으로 파악하는 방법\n",
    "6. 정방행령에서만 정의되며 모든 대각요소의 합을 의미한다\n",
    "7. 원래의 행렬에서 내적연산을 했을 시 항등행렬이 나오는 함수를 말한다\n",
    "8. 대각행렬 중에서 모든 대각성분의 값이 1인 행렬\n",
    "9. 행렬에서 모든 비대각 요소가 0인 행렬\n",
    "10. 두 벡터를 곱하는 방법중 하나, 조건으로 두 벡터의 차원이 같아야 하며 앞의 벡터가 행 벡터, 뒤의 벡터가 열 벡터여야 한다\n",
    "11. 전치연산을 통해 얻은 전치행렬과 원래의 행렬이 같은 행렬"
   ]
  },
  {
   "cell_type": "markdown",
   "metadata": {},
   "source": [
    "##### 영어문제 이유\n",
    "- 한국인이 쓴 논문과 여러 공부자료에서 한글 해석이 아닌 영어표현으로 설명한 자료도 있어 기본 정의여도 영어로 된 표현도 알면 좋을꺼 같아서 문제로 만들었습니다.\n",
    "- 또한 기본 정의 + 내용 문제 내용도 넣어 1 + 1 문제로 만들었습니다"
   ]
  },
  {
   "cell_type": "markdown",
   "metadata": {},
   "source": [
    "***\n",
    "# 증명\n",
    "    - 증명을 파이썬으로 만들어도 되고 종이에 풀고 사진으로 올려 주세요"
   ]
  },
  {
   "cell_type": "markdown",
   "metadata": {},
   "source": [
    "1. 행렬 놈(norm)의 정의를 쓰시오\n",
    "$$ ||A||_2 = $$"
   ]
  },
  {
   "cell_type": "markdown",
   "metadata": {},
   "source": [
    "2. 다음 식을 증명하시오(단 X는 N x M행렬일때)\n",
    "$$ tr(X(X^TX)^{-1}X^T) = M \\;\\;\\;$$ "
   ]
  },
  {
   "cell_type": "markdown",
   "metadata": {},
   "source": [
    "3. 다음 식이 성립함을 증명하시오.\n",
    "$$ x^TAx = \\frac{1}{2}x^T(A + A^T)x$$"
   ]
  },
  {
   "cell_type": "markdown",
   "metadata": {},
   "source": [
    "4. 다음 식이 성립함을 증명하시오\n",
    "$$ A((A^{-1}A)^{-1})^{-1}(B^TB^{-1})^{-1}(C^T)^{-1}(AB^TC^T)^{-1}A^{-1} C = ABC $$"
   ]
  },
  {
   "cell_type": "markdown",
   "metadata": {},
   "source": [
    "***\n",
    "# 문제풀이"
   ]
  },
  {
   "cell_type": "markdown",
   "metadata": {},
   "source": [
    "1. 다음이 참인지 거짓인지 쓰시오\n",
    "    - 대칭행렬은 영행렬이 아닌 행렬이 모든 비대각 요소가 0인 정방행렬를 말한다 $[\\;\\;]$\n",
    "    - 행렬과 그행렬의 전치행렬은 다음을 만족한다 $[\\;\\;]$\n",
    "    $$ det(A) = det(A^T) $$\n",
    "    - 행렬의 행렬식은 항상 다음을 만족한다 $[\\;\\;]$\n",
    "    $$ det(AB) > set(A)det(B) $$\n",
    "    - 행렬의 놈은 다음을 만족한다$[\\;\\;]$\n",
    "    $$||A + B|| >= ||A|| + ||B||$$\n",
    "    $$||AB|| >= ||A||||B||$$"
   ]
  },
  {
   "cell_type": "markdown",
   "metadata": {},
   "source": [
    "2. 다음 식을 푸시오\n",
    "    - 벡터 * 스칼라\n",
    "    $$ \\frac{1}{2}\\begin{bmatrix}10 \\\\ -4 \\\\ 6 \\end{bmatrix} = $$\n",
    "    - 벡터 * 벡터\n",
    "    $$ \\begin{bmatrix}2 & 2 & 5 & 4 \\end{bmatrix}\\begin{bmatrix}1 \\\\ -1 \\\\ 1 \\\\ -1 \\end{bmatrix} = $$\n",
    "    - 행렬의 내적\n",
    "    $$\\begin{bmatrix}1 & -1 \\\\ -1 & 1 \\end{bmatrix}\n",
    "\\begin{bmatrix}2 & 2 \\\\ 3 & 3 \\end{bmatrix} = $$\n",
    "    - 해당 식이 양의 정부호 인지 양의 준정부호 인지 둘다 아닌지 쓰시오\n",
    "    - 1번 $$:  \\begin{bmatrix}1 & -1 \\\\ -1 & 1 \\end{bmatrix} $$\n",
    "    - 2번 $$:  \\begin{bmatrix}3 & -1 & 0 \\\\ -1 & 2 & -1 \\\\ 0 & -1 & 3 \\end{bmatrix} $$"
   ]
  },
  {
   "cell_type": "markdown",
   "metadata": {},
   "source": [
    "***\n",
    "# 코딩문제"
   ]
  },
  {
   "cell_type": "code",
   "execution_count": null,
   "metadata": {},
   "outputs": [],
   "source": [
    "import numpy as np\n",
    "x1 = np.array([[1, 2],[3, 4]])\n",
    "x2 = np.array([[1, 0],[0, 1]])\n",
    "x3 = np.array([[1],[2]])"
   ]
  },
  {
   "cell_type": "markdown",
   "metadata": {},
   "source": [
    "### 1. x1과 x2를 더하시오"
   ]
  },
  {
   "cell_type": "code",
   "execution_count": 5,
   "metadata": {},
   "outputs": [
    {
     "data": {
      "text/plain": [
       "array([[2, 2],\n",
       "       [3, 5]])"
      ]
     },
     "execution_count": 5,
     "metadata": {},
     "output_type": "execute_result"
    }
   ],
   "source": [
    "## 1. 더하기\n"
   ]
  },
  {
   "cell_type": "markdown",
   "metadata": {},
   "source": [
    "### 2. x1과 x2를 곱하시오"
   ]
  },
  {
   "cell_type": "code",
   "execution_count": 8,
   "metadata": {},
   "outputs": [
    {
     "data": {
      "text/plain": [
       "array([[1, 2],\n",
       "       [3, 4]])"
      ]
     },
     "execution_count": 8,
     "metadata": {},
     "output_type": "execute_result"
    }
   ],
   "source": [
    "## 2. 곱하기\n"
   ]
  },
  {
   "cell_type": "markdown",
   "metadata": {},
   "source": [
    "### 3. x3의 전치행렬을 구하시오"
   ]
  },
  {
   "cell_type": "code",
   "execution_count": 11,
   "metadata": {},
   "outputs": [
    {
     "data": {
      "text/plain": [
       "array([[1, 2]])"
      ]
     },
     "execution_count": 11,
     "metadata": {},
     "output_type": "execute_result"
    }
   ],
   "source": [
    "## 3. 전치행렬\n"
   ]
  },
  {
   "cell_type": "markdown",
   "metadata": {},
   "source": [
    "### 4. 크기가 2인 영행렬, 일행렬, 항등행렬을 만드시오"
   ]
  },
  {
   "cell_type": "code",
   "execution_count": 19,
   "metadata": {},
   "outputs": [
    {
     "name": "stdout",
     "output_type": "stream",
     "text": [
      "[[0. 0.]\n",
      " [0. 0.]]\n",
      "\n",
      "[[1. 1.]\n",
      " [1. 1.]]\n",
      "\n",
      "[[1. 0.]\n",
      " [0. 1.]]\n"
     ]
    }
   ],
   "source": [
    "## 4. 영행렬, 일행렬, 항등행렬\n"
   ]
  },
  {
   "cell_type": "markdown",
   "metadata": {},
   "source": [
    "### 5. x1의 행렬식을 구하시오"
   ]
  },
  {
   "cell_type": "code",
   "execution_count": 22,
   "metadata": {},
   "outputs": [
    {
     "data": {
      "text/plain": [
       "5.477225575051661"
      ]
     },
     "execution_count": 22,
     "metadata": {},
     "output_type": "execute_result"
    }
   ],
   "source": [
    "## norm\n"
   ]
  },
  {
   "cell_type": "markdown",
   "metadata": {},
   "source": [
    "### 6. x2 의 대각합을 구하여라"
   ]
  },
  {
   "cell_type": "code",
   "execution_count": 23,
   "metadata": {},
   "outputs": [
    {
     "data": {
      "text/plain": [
       "2"
      ]
     },
     "execution_count": 23,
     "metadata": {},
     "output_type": "execute_result"
    }
   ],
   "source": [
    "## 대각합\n"
   ]
  },
  {
   "cell_type": "markdown",
   "metadata": {},
   "source": [
    "### 7.  x1의 행렬식을 구하시오"
   ]
  },
  {
   "cell_type": "code",
   "execution_count": 24,
   "metadata": {},
   "outputs": [
    {
     "data": {
      "text/plain": [
       "-2.0000000000000004"
      ]
     },
     "execution_count": 24,
     "metadata": {},
     "output_type": "execute_result"
    }
   ],
   "source": [
    "## 행렬식\n"
   ]
  },
  {
   "cell_type": "markdown",
   "metadata": {},
   "source": [
    "### 8. x1의 역행렬을 구하시오"
   ]
  },
  {
   "cell_type": "code",
   "execution_count": 26,
   "metadata": {},
   "outputs": [
    {
     "data": {
      "text/plain": [
       "array([[-2. ,  1. ],\n",
       "       [ 1.5, -0.5]])"
      ]
     },
     "execution_count": 26,
     "metadata": {},
     "output_type": "execute_result"
    }
   ],
   "source": [
    "## 역행렬\n",
    "np.linalg.inv(x1)"
   ]
  },
  {
   "cell_type": "markdown",
   "metadata": {},
   "source": [
    "### 9. 최소자승문제를 해결하라"
   ]
  },
  {
   "cell_type": "code",
   "execution_count": 32,
   "metadata": {},
   "outputs": [],
   "source": [
    "A = np.array([[1,1,0],[0,1,1],[1,1,1],[1,1,2]])\n",
    "B = np.array([[2],[2],[3],[4.1]])"
   ]
  },
  {
   "cell_type": "markdown",
   "metadata": {},
   "source": [
    " 힌트 x = $(A^TA)^{-1}AB$"
   ]
  },
  {
   "cell_type": "code",
   "execution_count": 33,
   "metadata": {},
   "outputs": [
    {
     "data": {
      "text/plain": [
       "array([[1.03333333],\n",
       "       [0.95      ],\n",
       "       [1.05      ]])"
      ]
     },
     "execution_count": 33,
     "metadata": {},
     "output_type": "execute_result"
    }
   ],
   "source": [
    "## "
   ]
  }
 ],
 "metadata": {
  "kernelspec": {
   "display_name": "Python 3",
   "language": "python",
   "name": "python3"
  },
  "language_info": {
   "codemirror_mode": {
    "name": "ipython",
    "version": 3
   },
   "file_extension": ".py",
   "mimetype": "text/x-python",
   "name": "python",
   "nbconvert_exporter": "python",
   "pygments_lexer": "ipython3",
   "version": "3.7.3"
  }
 },
 "nbformat": 4,
 "nbformat_minor": 2
}
