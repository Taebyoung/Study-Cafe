{
 "cells": [
  {
   "cell_type": "markdown",
   "metadata": {},
   "source": [
    "### 4.5 변분법"
   ]
  },
  {
   "cell_type": "markdown",
   "metadata": {},
   "source": [
    "#### 범함수"
   ]
  },
  {
   "cell_type": "markdown",
   "metadata": {},
   "source": [
    "- 기존 함수가 실수를 입력받아 실수를 반환하지만 범함수는 함수를 입력받아 실수를 반환한다.\n",
    "    - 예) 적분함수. 함수를 입력받아 그 함수의 넓이를 반환한다."
   ]
  },
  {
   "cell_type": "markdown",
   "metadata": {},
   "source": [
    "### 범함수의 테일러 전개"
   ]
  },
  {
   "cell_type": "markdown",
   "metadata": {},
   "source": [
    "- 기존 테일러전개\n",
    "    $$ f(x + \\epsilon) \\approx f(x) + \\frac{d}{dx}f\\epsilon $$"
   ]
  },
  {
   "cell_type": "markdown",
   "metadata": {},
   "source": [
    "- 이를 다항함수에 적용하고 함수로 변환하면\n",
    "\n",
    "    $$ F[y(x) + \\epsilon\\eta(x)] \\approx F[y(x)] + \\epsilon\\int\\frac{\\delta}{\\delta y(x)}F\\eta(x)dx $$"
   ]
  },
  {
   "cell_type": "markdown",
   "metadata": {},
   "source": [
    "- 범함수의 도함수\n",
    "    - 범함수 F를 입력받는 함수 y로 미분하면\n",
    "    $$ \\frac{\\delta}{\\delta y(x)}F $$이다\n",
    "    \n",
    "    -또한 테일러 전개에서 이 도함수값이 0이 되는것을 알 수 있다\n",
    "    $$ \\frac{F[y(x) + \\epsilon\\eta(x)] - F[y(x)]}{\\epsilon} = \\int\\frac{\\delta}{\\delta y(x)}F\\eta(x)dx $$"
   ]
  },
  {
   "cell_type": "markdown",
   "metadata": {},
   "source": [
    "- **적분형 범함수의 도함수**\n",
    "    - 대부분 범함수는 x에 대한 적분으로 정의되며 적분 기호안의 연산은 y(x)와 x를 입력 변수로 받는 함수G(y,x)라고 할 수 있다\n",
    "    $$ F[y(x)] = \\int G(y, x)dx $$\n",
    "    - 이러한 범함수F의 도함수는 다음처럼 계산한다\n",
    "    $$ \\frac{\\delta}{\\delta y}F = \\frac{\\partial}{\\partial y}G $$"
   ]
  },
  {
   "cell_type": "markdown",
   "metadata": {},
   "source": [
    "- 예) $$E[p(X)] = \\int_{-\\infty}^\\infty xp(x)dx  $$\n",
    "$$ G(x, y) = xy $$\n",
    "    - 따라서\n",
    "    $$\\frac{\\delta}{\\delta y}F = \\frac{\\partial}{\\partial y}G = x $$"
   ]
  },
  {
   "cell_type": "markdown",
   "metadata": {},
   "source": [
    "# 오일러 라그랑주"
   ]
  },
  {
   "cell_type": "markdown",
   "metadata": {},
   "source": [
    "- 만약 범함수의 입력이 x, y 에 더해서 $y'$ 이 있을 경우\n",
    "    $$ F[y(x)] = \\int G(y, y', x)dx $$\n",
    "    - 이를 미분하면\n",
    "    $$ \\frac{\\partial}{\\partial y}G - \\frac{d}{dx}\\left( \\frac{\\partial}{\\partial y'}G\\right)  $$\n",
    "    - 이는 $y$ 와 $y'$에 대하여 함수를 변수인 것처럼 생각하고 편미분한 도함수를 뜻한다"
   ]
  },
  {
   "cell_type": "markdown",
   "metadata": {},
   "source": [
    "# 최적 제어"
   ]
  },
  {
   "cell_type": "markdown",
   "metadata": {},
   "source": [
    "- 범함수 $F[y(x)]$ 가 있을 때 이 값이 가장 커지도록 혹은 가장 작아지도록 하는 도함수 y(x)를 찾는 것을 최적 제어 라고한다\n",
    "    - 일반 함수에서의 최적화는 도함수의 $x^*$에서 값이 0일때이다\n",
    "    $$\\frac{d}{dx}f(x^*) = 0 $$\n",
    "    - 범함수의 최적제어에서도 $y^*(x)$에서 0일떄 최적의 함수를 찾을 수 있다\n",
    "    $$\\frac{\\delta}{\\delta}f[y^*(x)] = 0 $$"
   ]
  }
 ],
 "metadata": {
  "kernelspec": {
   "display_name": "Python 3",
   "language": "python",
   "name": "python3"
  },
  "language_info": {
   "codemirror_mode": {
    "name": "ipython",
    "version": 3
   },
   "file_extension": ".py",
   "mimetype": "text/x-python",
   "name": "python",
   "nbconvert_exporter": "python",
   "pygments_lexer": "ipython3",
   "version": "3.7.3"
  }
 },
 "nbformat": 4,
 "nbformat_minor": 2
}
