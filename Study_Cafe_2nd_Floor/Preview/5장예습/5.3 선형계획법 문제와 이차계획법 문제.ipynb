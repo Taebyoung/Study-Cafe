{
 "cells": [
  {
   "cell_type": "markdown",
   "metadata": {},
   "source": [
    "### 선형계획법 문제\n",
    "- 방정식이나 부등식 제한 조건을 가지는 선형 모형(linear model)의 값을 최소화 하는 문제를 선형계획법(Linear Programming)문제라고 한다"
   ]
  },
  {
   "cell_type": "markdown",
   "metadata": {},
   "source": [
    "- 선형계획법 목적 함수는\n",
    "$$ \\arg\\min_xc^Tx $$\n",
    "- 이고 선형 연립방정식으로 된 등식 제한조건\n",
    "$$ Ax = b$$\n",
    "- 과 변수값이 모두 음수가 아니어야하는 부등식 제한조건\n",
    "$$ x \\geq 0$$\n",
    "- 를 동시에 가진다"
   ]
  },
  {
   "cell_type": "markdown",
   "metadata": {},
   "source": [
    "##### 정규형 선형 계획법\n",
    "$$ \\arg\\min_xc^Tx $$\n",
    "$$ Ax \\leq b$$\n",
    "$$ x \\geq 0$$\n"
   ]
  }
 ],
 "metadata": {
  "kernelspec": {
   "display_name": "Python 3",
   "language": "python",
   "name": "python3"
  },
  "language_info": {
   "codemirror_mode": {
    "name": "ipython",
    "version": 3
   },
   "file_extension": ".py",
   "mimetype": "text/x-python",
   "name": "python",
   "nbconvert_exporter": "python",
   "pygments_lexer": "ipython3",
   "version": "3.7.3"
  }
 },
 "nbformat": 4,
 "nbformat_minor": 2
}
